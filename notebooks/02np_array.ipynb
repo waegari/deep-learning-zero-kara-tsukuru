{
  "cells": [
    {
      "cell_type": "code",
      "execution_count": null,
      "metadata": {
        "colab": {
          "base_uri": "https://localhost:8080/"
        },
        "id": "AC7diEHlkuKC",
        "outputId": "98d5ad18-5d96-4cb2-f164-23aa51496eb8"
      },
      "outputs": [
        {
          "name": "stdout",
          "output_type": "stream",
          "text": [
            "[1 2 3 4]\n",
            "1\n",
            "(4,)\n",
            "4\n"
          ]
        }
      ],
      "source": [
        "import numpy as np\n",
        "\n",
        "A = np.array([1, 2, 3, 4])\n",
        "print(A)\n",
        "print(np.ndim(A))\n",
        "print(A.shape)\n",
        "print(A.shape[0])"
      ]
    },
    {
      "cell_type": "code",
      "execution_count": null,
      "metadata": {
        "colab": {
          "base_uri": "https://localhost:8080/"
        },
        "id": "VlZHiGRTlDlH",
        "outputId": "f34f7482-aff6-4692-93d2-d3d0b95514bf"
      },
      "outputs": [
        {
          "name": "stdout",
          "output_type": "stream",
          "text": [
            "[[1 2]\n",
            " [3 4]\n",
            " [5 6]]\n",
            "np.ndim: 2\n",
            "B.shape: (3, 2)\n",
            "3\n"
          ]
        }
      ],
      "source": [
        "B = np.array([[1, 2], [3, 4], [5, 6]])\n",
        "print(B)\n",
        "\n",
        "print(f'np.ndim: {np.ndim(B)}')\n",
        "print(f'B.shape: {B.shape}')\n",
        "print(B.shape[0])"
      ]
    },
    {
      "cell_type": "markdown",
      "metadata": {
        "id": "athvzxTdkxax"
      },
      "source": [
        "##配列の積"
      ]
    },
    {
      "cell_type": "code",
      "execution_count": null,
      "metadata": {
        "colab": {
          "base_uri": "https://localhost:8080/"
        },
        "id": "3I-SaiKalmSI",
        "outputId": "63d6c88c-f928-49d9-8832-85b8745c5dc6"
      },
      "outputs": [
        {
          "data": {
            "text/plain": [
              "array([[13, 20],\n",
              "       [29, 44]])"
            ]
          },
          "execution_count": 17,
          "metadata": {},
          "output_type": "execute_result"
        }
      ],
      "source": [
        "A = np.array([[1,2], [3,4]])\n",
        "A.shape\n",
        "\n",
        "B = np.array([[3,4], [5,8]])\n",
        "B.shape\n",
        "\n",
        "# ドット積\n",
        "np.dot(A, B)"
      ]
    },
    {
      "cell_type": "code",
      "execution_count": null,
      "metadata": {
        "colab": {
          "base_uri": "https://localhost:8080/"
        },
        "id": "R09kSnYemAOq",
        "outputId": "96e52c2d-1adb-49f2-f97d-12f008ec977d"
      },
      "outputs": [
        {
          "name": "stdout",
          "output_type": "stream",
          "text": [
            "(3, 2)\n",
            "(2,)\n",
            "(3,)\n"
          ]
        }
      ],
      "source": [
        "C = np.array([[1,2], [3,4], [5,6]])\n",
        "D = np.array([7,8])\n",
        "\n",
        "E = np.dot(C, D)\n",
        "\n",
        "print(C.shape)\n",
        "print(D.shape)\n",
        "print(E.shape)"
      ]
    },
    {
      "cell_type": "code",
      "execution_count": null,
      "metadata": {
        "colab": {
          "base_uri": "https://localhost:8080/"
        },
        "id": "r1hboHExmgif",
        "outputId": "8fbdd65b-ffa4-4984-e78b-6e9e699e5226"
      },
      "outputs": [
        {
          "name": "stdout",
          "output_type": "stream",
          "text": [
            "(2,)\n",
            "(2, 3)\n",
            "[ 5 11 17]\n",
            "(3,)\n"
          ]
        }
      ],
      "source": [
        "# in a neural network\n",
        "X = np.array([1,2])\n",
        "print(X.shape)\n",
        "W = np.array([[1,3,5], [2,4,6]])\n",
        "print(W.shape)\n",
        "\n",
        "Y = np.dot(X, W)\n",
        "print(Y)\n",
        "print(Y.shape)"
      ]
    },
    {
      "cell_type": "markdown",
      "metadata": {
        "id": "lBcHBcewnbXh"
      },
      "source": [
        "##ニューラルネットワークの実装\n"
      ]
    },
    {
      "cell_type": "code",
      "execution_count": null,
      "metadata": {
        "colab": {
          "base_uri": "https://localhost:8080/"
        },
        "id": "XiCx44gfng8c",
        "outputId": "2460e82f-469f-4998-c08b-57edff5035f2"
      },
      "outputs": [
        {
          "name": "stdout",
          "output_type": "stream",
          "text": [
            "network: \n",
            "{'W1': array([[0.1, 0.3, 0.5],\n",
            "       [0.2, 0.4, 0.6]]), 'b1': array([0.1, 0.2, 0.3]), 'W2': array([[0.1, 0.4],\n",
            "       [0.2, 0.5],\n",
            "       [0.3, 0.6]]), 'b2': array([0.1, 0.2]), 'W3': array([[0.1, 0.3],\n",
            "       [0.2, 0.4]]), 'b3': array([0.1, 0.2])}\n",
            "x: [1.  0.5]\n",
            "y: [0.31682708 0.69627909]\n"
          ]
        }
      ],
      "source": [
        "def sigmoid(x):\n",
        "  return 1 / (1 + np.exp(-x))\n",
        "def identity_function(x):\n",
        "  return x\n",
        "\n",
        "def init_network():\n",
        "  network = {}\n",
        "  network['W1'] = np.array([[0.1, 0.3, 0.5], [0.2, 0.4, 0.6]])\n",
        "  network['b1'] = np.array([0.1, 0.2, 0.3])\n",
        "  network['W2'] = np.array([[0.1, 0.4], [0.2, 0.5], [0.3, 0.6]])\n",
        "  network['b2'] = np.array([0.1, 0.2])\n",
        "  network['W3'] = np.array([[0.1, 0.3], [0.2, 0.4]])\n",
        "  network['b3'] = np.array([0.1, 0.2])\n",
        "\n",
        "  return network\n",
        "\n",
        "def forward(network, x):\n",
        "  W1, W2, W3 = network['W1'], network['W2'], network['W3']\n",
        "  b1, b2, b3 = network['b1'], network['b2'], network['b3']\n",
        "  a1 = np.dot(x, W1) + b1\n",
        "  z1 = sigmoid(a1)\n",
        "  a2 = np.dot(z1, W2) + b2\n",
        "  z2 = sigmoid(a2)\n",
        "  a3 = np.dot(z2, W3) + b3\n",
        "  y = identity_function(a3)\n",
        "  return y\n",
        "\n",
        "network = init_network()\n",
        "print(f'network: \\n{network}')\n",
        "\n",
        "x = np.array([1.0, 0.5])\n",
        "print(f'x: {x}')\n",
        "y = forward(network, x)\n",
        "print(f'y: {y}')"
      ]
    }
  ],
  "metadata": {
    "colab": {
      "provenance": []
    },
    "kernelspec": {
      "display_name": "Python 3.9.6 64-bit",
      "language": "python",
      "name": "python3"
    },
    "language_info": {
      "name": "python",
      "version": "3.9.6"
    },
    "vscode": {
      "interpreter": {
        "hash": "11938c6bc6919ae2720b4d5011047913343b08a43b18698fd82dedb0d4417594"
      }
    }
  },
  "nbformat": 4,
  "nbformat_minor": 0
}
