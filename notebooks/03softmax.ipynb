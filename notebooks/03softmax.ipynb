{
  "nbformat": 4,
  "nbformat_minor": 0,
  "metadata": {
    "colab": {
      "provenance": []
    },
    "kernelspec": {
      "name": "python3",
      "display_name": "Python 3"
    },
    "language_info": {
      "name": "python"
    }
  },
  "cells": [
    {
      "cell_type": "markdown",
      "source": [
        "##ソフトマックス関数\n",
        "$\n",
        "y_k = \\sigma(a_k) = \\frac{e^{a_k}}{\\sum_{i=1}^{k} e^{a_i}}\n",
        "$"
      ],
      "metadata": {
        "id": "Y31NfOZxrALX"
      }
    },
    {
      "cell_type": "code",
      "source": [
        "import numpy as np\n",
        "\n",
        "a = np.array([0.3, 2.9, 4.0])\n",
        "\n",
        "exp_a = np.exp(a) # 分子\n",
        "print(exp_a)\n",
        "\n",
        "sum_exp_a = np.sum(exp_a) # 分母\n",
        "print(sum_exp_a)\n",
        "\n",
        "y = exp_a/sum_exp_a # ソフトマックス\n",
        "print(y)"
      ],
      "metadata": {
        "colab": {
          "base_uri": "https://localhost:8080/"
        },
        "id": "A40_2slnsHuC",
        "outputId": "6bf00d4b-c244-40d2-b564-4da4fd9cb274"
      },
      "execution_count": null,
      "outputs": [
        {
          "output_type": "stream",
          "name": "stdout",
          "text": [
            "[ 1.34985881 18.17414537 54.59815003]\n",
            "74.1221542101633\n",
            "[0.01821127 0.24519181 0.73659691]\n"
          ]
        }
      ]
    },
    {
      "cell_type": "markdown",
      "source": [
        "##ソフトマックス関数の実装上の注意\n",
        "#オーバーフロー！！\n",
        "- コンピュータで計算を行う上では、欠陥がある\n",
        "  - $e^{10}$は20000を超える\n",
        "  - $e^{1000}$はもはや無限大と見なすことになってしまう(\"inf\")"
      ],
      "metadata": {
        "id": "5pbyGFdqtFB6"
      }
    },
    {
      "cell_type": "code",
      "source": [
        "print(np.exp(1000))"
      ],
      "metadata": {
        "colab": {
          "base_uri": "https://localhost:8080/"
        },
        "id": "ur5sbhPotBDV",
        "outputId": "104dfce0-e008-4727-d43a-adcac951c2c4"
      },
      "execution_count": null,
      "outputs": [
        {
          "output_type": "stream",
          "name": "stdout",
          "text": [
            "inf\n"
          ]
        },
        {
          "output_type": "stream",
          "name": "stderr",
          "text": [
            "<ipython-input-5-c2155d66b4f0>:1: RuntimeWarning: overflow encountered in exp\n",
            "  print(np.exp(1000))\n"
          ]
        }
      ]
    },
    {
      "cell_type": "markdown",
      "source": [
        "##改善案\n",
        "  - 正規化する"
      ],
      "metadata": {
        "id": "BVHYOCjkubaS"
      }
    },
    {
      "cell_type": "code",
      "source": [
        "a = np.array([1010, 1000, 990])\n",
        "# np.exp(a) / np.sum(np.exp(a)) # [nan nan nan]\n",
        "\n",
        "c = np.max(a) # 1010\n",
        "\n",
        "a - c # array([  0, -10, -20])\n",
        "\n",
        "softmax = np.exp(a-c) / np.sum(np.exp(a-c))\n",
        "print(softmax)"
      ],
      "metadata": {
        "colab": {
          "base_uri": "https://localhost:8080/"
        },
        "id": "rbtEeajDuNAM",
        "outputId": "a7c63c79-fd85-4e55-c98a-6d2cb8dbf00b"
      },
      "execution_count": null,
      "outputs": [
        {
          "output_type": "stream",
          "name": "stdout",
          "text": [
            "[9.99954600e-01 4.53978686e-05 2.06106005e-09]\n"
          ]
        }
      ]
    },
    {
      "cell_type": "code",
      "source": [
        "# 実装しよう\n",
        "def softmax(a):\n",
        "  c = np.max(a)\n",
        "  exp_a = np.exp(a - c) # オーバーフローの対策\n",
        "  sum_exp_a = np.sum(exp_a)\n",
        "  return exp_a / sum_exp_a"
      ],
      "metadata": {
        "id": "uMkhkcyKwdPt"
      },
      "execution_count": null,
      "outputs": []
    }
  ]
}